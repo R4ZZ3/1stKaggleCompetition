{
 "cells": [
  {
   "cell_type": "code",
   "execution_count": 181,
   "metadata": {},
   "outputs": [
    {
     "name": "stdout",
     "output_type": "stream",
     "text": [
      "C:\\Users\\Admin\\OneDrive - Lappeenrannan Teknillinen Yliopisto\\Omat opiskelut\\TUT_ML_kurssi\\TUT_acoustic_data\n"
     ]
    }
   ],
   "source": [
    "cd C:\\Users\\Admin\\OneDrive - Lappeenrannan Teknillinen Yliopisto\\Omat opiskelut\\TUT_ML_kurssi\\TUT_acoustic_data"
   ]
  },
  {
   "cell_type": "code",
   "execution_count": 182,
   "metadata": {
    "collapsed": true
   },
   "outputs": [],
   "source": [
    "import numpy as np\n",
    "import tensorflow as tf\n",
    "import matplotlib.pyplot as plt\n",
    "import pandas as pd\n",
    "import scipy\n",
    "from scipy.stats import kurtosis\n",
    "from scipy.stats import skew\n",
    "from sklearn import cross_validation\n",
    "%matplotlib inline"
   ]
  },
  {
   "cell_type": "code",
   "execution_count": 183,
   "metadata": {
    "collapsed": true
   },
   "outputs": [],
   "source": [
    "train_data = np.load('X_train.npy')\n",
    "\n",
    "train_labels = pd.DataFrame(pd.read_csv('y_train.csv'))\n",
    "\n",
    "cross_validation_csv = pd.read_csv('crossvalidation_train.csv')\n",
    "\n",
    "test_data = np.load('X_test.npy')\n",
    "\n",
    "\n",
    "train_data_separated = pd.DataFrame(columns = [i for i in range(80)])\n",
    "test_data_separated = pd.DataFrame(columns = [i for i in range(80)])"
   ]
  },
  {
   "cell_type": "code",
   "execution_count": null,
   "metadata": {
    "collapsed": true
   },
   "outputs": [],
   "source": []
  },
  {
   "cell_type": "code",
   "execution_count": 184,
   "metadata": {
    "collapsed": true
   },
   "outputs": [],
   "source": [
    "train_data_separated_labels = pd.DataFrame(columns= ['labels'])\n",
    "test_data_separated_labels = pd.DataFrame(columns= ['labels'])\n"
   ]
  },
  {
   "cell_type": "code",
   "execution_count": 185,
   "metadata": {},
   "outputs": [
    {
     "name": "stdout",
     "output_type": "stream",
     "text": [
      "(1500, 501, 40)\n"
     ]
    }
   ],
   "source": [
    "test_data = np.transpose(test_data, (0,2,1))\n",
    "print(test_data.shape)"
   ]
  },
  {
   "cell_type": "code",
   "execution_count": 186,
   "metadata": {},
   "outputs": [
    {
     "name": "stdout",
     "output_type": "stream",
     "text": [
      "(4500, 501, 40)\n"
     ]
    }
   ],
   "source": [
    "train_data = np.transpose(train_data, (0, 2, 1))\n",
    "print(train_data.shape)"
   ]
  },
  {
   "cell_type": "code",
   "execution_count": 187,
   "metadata": {
    "collapsed": true
   },
   "outputs": [],
   "source": [
    "# from sklearn.preprocessing import MinMaxScaler\n",
    "# scaler = MinMaxScaler()\n",
    "# for i in range(len(train_data)):\n",
    "#     train_data[i] = scaler.fit_transform(train_data[i])\n",
    "#     if i < len(test_data):\n",
    "#         test_data[i] = scaler.transform(test_data[i])"
   ]
  },
  {
   "cell_type": "code",
   "execution_count": null,
   "metadata": {
    "collapsed": true
   },
   "outputs": [],
   "source": [
    "\n"
   ]
  },
  {
   "cell_type": "code",
   "execution_count": 188,
   "metadata": {},
   "outputs": [
    {
     "name": "stdout",
     "output_type": "stream",
     "text": [
      "(4500, 40) (1500, 40)\n",
      "(4500, 40) (1500, 40)\n"
     ]
    }
   ],
   "source": [
    "# this takes mean for data, axis= 1 is vertical, axi = 2 is horizontal \n",
    "#Lets take mean for each spectrogram bin \n",
    "train_meaned_data = np.mean([train_data[i] for i in range(0,4500)], axis=1)\n",
    "train_meaned_data = pd.DataFrame(train_meaned_data)\n",
    "\n",
    "# MAX\n",
    "train_max_data = np.amax([train_data[i] for i in range(0,4500)], axis=1)\n",
    "train_max_data = pd.DataFrame(train_max_data)\n",
    "#MIN\n",
    "train_min_data = np.amin([train_data[i] for i in range(0,4500)], axis=1)\n",
    "train_min_data = pd.DataFrame(train_min_data)\n",
    "# VARIANCE\n",
    "train_varianced_data = np.var([train_data[i] for  i in range(0,4500)], axis=1)\n",
    "train_varianced_data = pd.DataFrame(train_varianced_data)\n",
    "# MAX-MIN\n",
    "train_max_minus_min = (np.amax([train_data[i] for i in range(0,4500)], axis=1)) - (np.amin([train_data[i] for i in range(0,4500)], axis=1))\n",
    "train_max_minus_min = pd.DataFrame(train_max_minus_min)\n",
    "# KURTOSIS\n",
    "train_data_kurtosis = scipy.stats.kurtosis([train_data[i] for i in range(0,4500)], axis=1)\n",
    "train_data_kurtosis = pd.DataFrame(train_data_kurtosis)\n",
    "\n",
    "# SKEWNESS\n",
    "train_data_skewness = scipy.stats.skew([train_data[i] for i in range(0,4500)], axis=1)\n",
    "train_data_skewness = pd.DataFrame(train_data_skewness)\n",
    "\n",
    "# THEN FOR TEST DATA\n",
    "# MAX\n",
    "test_max_data = np.amax([test_data[i] for i in range(0,1500)],axis = 1)\n",
    "test_max_data = pd.DataFrame(test_max_data)\n",
    "# MIN\n",
    "#test_min_data = np.amin([test_data[i] for i in range(0,1500)],axis = 1)\n",
    "#test_min_data = pd.DataFrame(test_min_data)\n",
    "\n",
    "#MEAN\n",
    "test_meaned_data = np.mean([test_data[i] for i in range(0,1500)],axis = 1)\n",
    "test_meaned_data = pd.DataFrame(test_meaned_data)\n",
    "# VARIANCE\n",
    "test_varianced_data = np.var([test_data[i] for i in range(0,1500)], axis = 1)\n",
    "test_varianced_data = pd.DataFrame(test_varianced_data)\n",
    "# MAX - MIN\n",
    "#test_max_minus_min = (np.amax([test_data[i] for i in range(0,1500)], axis=1)) - (np.amin([test_data[i] for i in range(0,1500)], axis=1))\n",
    "#test_max_minus_min = pd.DataFrame(test_max_minus_min)\n",
    "# KURTOSIS \n",
    "test_data_kurtosis = scipy.stats.kurtosis([test_data[i] for i in range(0,1500)], axis=1)\n",
    "test_data_kurtosis = pd.DataFrame(test_data_kurtosis)\n",
    "\n",
    "# SKEWNESS\n",
    "test_data_skewness = scipy.stats.skew([test_data[i] for i in range(0,1500)], axis=1)\n",
    "test_data_skewness = pd.DataFrame(test_data_skewness)\n",
    "\n",
    "print(train_meaned_data.shape, test_meaned_data.shape)\n",
    "#print(train_max_data.shape, test_max_data.shape)\n",
    "#print(train_min_data.shape, test_min_data.shape)\n",
    "print(train_varianced_data.shape, test_varianced_data.shape)\n",
    "#print(train_max_minus_min.shape, test_max_minus_min.shape)\n"
   ]
  },
  {
   "cell_type": "code",
   "execution_count": 189,
   "metadata": {
    "collapsed": true
   },
   "outputs": [],
   "source": [
    "train_meaned_data = np.concatenate((train_meaned_data,train_max_data), axis = 1)\n",
    "#train_meaned_data = np.concatenate((train_meaned_data,train_min_data), axis = 1)\n",
    "train_meaned_data = np.concatenate((train_meaned_data,train_varianced_data), axis = 1)\n",
    "train_meaned_data = np.concatenate((train_meaned_data,train_data_kurtosis), axis = 1)\n",
    "train_meaned_data = np.concatenate((train_meaned_data,train_data_skewness), axis = 1)\n",
    "#train_meaned_data = np.concatenate((train_meaned_data,train_max_minus_min), axis = 1)\n",
    "\n",
    "#test_meaned_data = np.concatenate((test_meaned_data,test_min_data), axis = 1)\n",
    "test_meaned_data = np.concatenate((test_meaned_data,test_max_data), axis = 1)\n",
    "test_meaned_data = np.concatenate((test_meaned_data,test_varianced_data), axis = 1)\n",
    "test_meaned_data = np.concatenate((test_meaned_data,test_data_kurtosis), axis = 1)\n",
    "test_meaned_data = np.concatenate((test_meaned_data,test_data_skewness), axis = 1)\n",
    "#test_meaned_data = np.concatenate((test_meaned_data,test_max_minus_min), axis = 1)\n"
   ]
  },
  {
   "cell_type": "code",
   "execution_count": 190,
   "metadata": {},
   "outputs": [
    {
     "name": "stdout",
     "output_type": "stream",
     "text": [
      "(4500, 200) (1500, 200)\n"
     ]
    }
   ],
   "source": [
    "print(train_meaned_data.shape, test_meaned_data.shape)"
   ]
  },
  {
   "cell_type": "code",
   "execution_count": 191,
   "metadata": {
    "collapsed": true
   },
   "outputs": [],
   "source": [
    "train_data = pd.DataFrame(train_meaned_data)\n",
    "test_data = pd.DataFrame(test_meaned_data)"
   ]
  },
  {
   "cell_type": "code",
   "execution_count": 192,
   "metadata": {},
   "outputs": [
    {
     "name": "stdout",
     "output_type": "stream",
     "text": [
      "i is now  0 / 4500\n",
      "i is now  100 / 4500\n",
      "i is now  200 / 4500\n",
      "i is now  300 / 4500\n",
      "i is now  400 / 4500\n",
      "i is now  500 / 4500\n",
      "i is now  600 / 4500\n",
      "i is now  700 / 4500\n",
      "i is now  800 / 4500\n",
      "i is now  900 / 4500\n",
      "i is now  1000 / 4500\n",
      "i is now  1100 / 4500\n",
      "i is now  1200 / 4500\n",
      "i is now  1300 / 4500\n",
      "i is now  1400 / 4500\n",
      "i is now  1500 / 4500\n",
      "i is now  1600 / 4500\n",
      "i is now  1700 / 4500\n",
      "i is now  1800 / 4500\n",
      "i is now  1900 / 4500\n",
      "i is now  2000 / 4500\n",
      "i is now  2100 / 4500\n",
      "i is now  2200 / 4500\n",
      "i is now  2300 / 4500\n",
      "i is now  2400 / 4500\n",
      "i is now  2500 / 4500\n",
      "i is now  2600 / 4500\n",
      "i is now  2700 / 4500\n",
      "i is now  2800 / 4500\n",
      "i is now  2900 / 4500\n",
      "i is now  3000 / 4500\n",
      "i is now  3100 / 4500\n",
      "i is now  3200 / 4500\n",
      "i is now  3300 / 4500\n",
      "i is now  3400 / 4500\n",
      "i is now  3500 / 4500\n",
      "i is now  3600 / 4500\n",
      "i is now  3700 / 4500\n",
      "i is now  3800 / 4500\n",
      "i is now  3900 / 4500\n",
      "i is now  4000 / 4500\n",
      "i is now  4100 / 4500\n",
      "i is now  4200 / 4500\n",
      "i is now  4300 / 4500\n",
      "i is now  4400 / 4500\n",
      "(3268, 200)\n",
      "(1232, 200)\n"
     ]
    }
   ],
   "source": [
    "# Splitting the data according to the proposed split defined by cross_validation_csv\n",
    "# train_data_separated = pd.read_pickle(\"train_set.pkl\")\n",
    "# test_data_separated = pd.read_pickle(\"test_set.pkl\")\n",
    "if train_data_separated.shape != (3268,80):\n",
    "    for i in range(len(cross_validation_csv)):\n",
    "        if cross_validation_csv['set'][i] == 'train':\n",
    "            train_data_separated = train_data_separated.append(train_data.loc[i,:])\n",
    "            if i % 100 == 0:\n",
    "                print(\"i is now \", i,\"/\",len(train_meaned_data))\n",
    "        elif cross_validation_csv['set'][i] == 'test':\n",
    "            test_data_separated = test_data_separated.append(train_data.loc[i,:])\n",
    "            if i % 100 == 0:\n",
    "                print(\"i is now \", i,\"/\",len(train_meaned_data))\n",
    "print(train_data_separated.shape)\n",
    "print(test_data_separated.shape)\n",
    "        "
   ]
  },
  {
   "cell_type": "code",
   "execution_count": 193,
   "metadata": {},
   "outputs": [
    {
     "name": "stdout",
     "output_type": "stream",
     "text": [
      "i is now  0\n",
      "i is now  100\n",
      "i is now  200\n",
      "i is now 300\n",
      "i is now 400\n",
      "i is now  500\n",
      "i is now  600\n",
      "i is now  700\n",
      "i is now 800\n",
      "i is now  900\n",
      "i is now  1000\n",
      "i is now  1100\n",
      "i is now 1200\n",
      "i is now  1300\n",
      "i is now  1400\n",
      "i is now 1500\n",
      "i is now 1600\n",
      "i is now  1700\n",
      "i is now  1800\n",
      "i is now  1900\n",
      "i is now  2000\n",
      "i is now  2100\n",
      "i is now 2200\n",
      "i is now  2300\n",
      "i is now  2400\n",
      "i is now 2500\n",
      "i is now 2600\n",
      "i is now  2700\n",
      "i is now 2800\n",
      "i is now 2900\n",
      "i is now 3000\n",
      "i is now 3100\n",
      "i is now 3200\n",
      "i is now 3300\n",
      "i is now  3400\n",
      "i is now 3500\n",
      "i is now  3600\n",
      "i is now  3700\n",
      "i is now  3800\n",
      "i is now  3900\n",
      "i is now  4000\n",
      "i is now  4100\n",
      "i is now 4200\n",
      "i is now  4300\n",
      "i is now  4400\n",
      "(3268, 3)\n",
      "(1232, 3)\n"
     ]
    }
   ],
   "source": [
    "# Splitting the labels according to the proposed split defined by cross_validation_csv\n",
    "# train_data_separated_labels = pd.read_pickle(\"train_set_labels.pkl\")\n",
    "# test_data_separated_labels = pd.read_pickle(\"test_set_labels.pkl\")\n",
    "if train_data_separated_labels.shape != (3268,3):\n",
    "    for i in range(len(cross_validation_csv)):\n",
    "        if cross_validation_csv['set'][i] == 'train':\n",
    "            train_data_separated_labels = train_data_separated_labels.append(train_labels.loc[i,:])\n",
    "            if i % 100 == 0:\n",
    "                print(\"i is now \", i)\n",
    "        elif cross_validation_csv['set'][i] == 'test':\n",
    "            test_data_separated_labels = test_data_separated_labels.append(train_labels.loc[i,:])\n",
    "            if i % 100 == 0:\n",
    "                print(\"i is now\", i)\n",
    "print(train_data_separated_labels.shape)\n",
    "print(test_data_separated_labels.shape)"
   ]
  },
  {
   "cell_type": "code",
   "execution_count": 194,
   "metadata": {
    "collapsed": true
   },
   "outputs": [],
   "source": [
    "# SCALE DATA, NOW EACH FEATURE TO SCALE MUST BE SAME COLUMN-WISE ie matrix is m x n where m is rows and n columns and n=num_features\n",
    "from sklearn.preprocessing import MinMaxScaler\n",
    "scaler = MinMaxScaler()\n",
    "train_data_separated = scaler.fit_transform(train_data_separated)\n",
    "test_data_separated = scaler.transform(test_data_separated)\n",
    "test_data = scaler.transform(test_meaned_data)"
   ]
  },
  {
   "cell_type": "code",
   "execution_count": 195,
   "metadata": {
    "collapsed": true
   },
   "outputs": [],
   "source": [
    "# Making a label fix function \n",
    "def label_fix(label):\n",
    "    if label =='cafe/restaurant':\n",
    "        return 0\n",
    "    elif label =='home':\n",
    "        return 1\n",
    "    elif label =='office':\n",
    "        return 2\n",
    "    elif label =='grocery store':\n",
    "        return 3\n",
    "    elif label =='park':\n",
    "        return 4\n",
    "    elif label =='train':\n",
    "        return 5\n",
    "    elif label =='library':\n",
    "        return 6\n",
    "    elif label =='beach':\n",
    "        return 7\n",
    "    elif label =='forest path':\n",
    "        return 8\n",
    "    elif label =='car':\n",
    "        return 9\n",
    "    elif label =='tram':\n",
    "        return 10\n",
    "    elif label =='residential area':\n",
    "        return 11\n",
    "    elif label =='metro station':\n",
    "        return 12\n",
    "    elif label =='bus':\n",
    "        return 13\n",
    "    elif label =='city center':\n",
    "        return 14"
   ]
  },
  {
   "cell_type": "code",
   "execution_count": 196,
   "metadata": {},
   "outputs": [
    {
     "data": {
      "text/html": [
       "<div>\n",
       "<style>\n",
       "    .dataframe thead tr:only-child th {\n",
       "        text-align: right;\n",
       "    }\n",
       "\n",
       "    .dataframe thead th {\n",
       "        text-align: left;\n",
       "    }\n",
       "\n",
       "    .dataframe tbody tr th {\n",
       "        vertical-align: top;\n",
       "    }\n",
       "</style>\n",
       "<table border=\"1\" class=\"dataframe\">\n",
       "  <thead>\n",
       "    <tr style=\"text-align: right;\">\n",
       "      <th></th>\n",
       "      <th>labels</th>\n",
       "      <th>id</th>\n",
       "      <th>scene_label</th>\n",
       "    </tr>\n",
       "  </thead>\n",
       "  <tbody>\n",
       "    <tr>\n",
       "      <th>2</th>\n",
       "      <td>NaN</td>\n",
       "      <td>2.0</td>\n",
       "      <td>office</td>\n",
       "    </tr>\n",
       "    <tr>\n",
       "      <th>13</th>\n",
       "      <td>NaN</td>\n",
       "      <td>13.0</td>\n",
       "      <td>park</td>\n",
       "    </tr>\n",
       "    <tr>\n",
       "      <th>31</th>\n",
       "      <td>NaN</td>\n",
       "      <td>31.0</td>\n",
       "      <td>forest path</td>\n",
       "    </tr>\n",
       "    <tr>\n",
       "      <th>32</th>\n",
       "      <td>NaN</td>\n",
       "      <td>32.0</td>\n",
       "      <td>train</td>\n",
       "    </tr>\n",
       "    <tr>\n",
       "      <th>38</th>\n",
       "      <td>NaN</td>\n",
       "      <td>38.0</td>\n",
       "      <td>forest path</td>\n",
       "    </tr>\n",
       "  </tbody>\n",
       "</table>\n",
       "</div>"
      ],
      "text/plain": [
       "   labels    id  scene_label\n",
       "2     NaN   2.0       office\n",
       "13    NaN  13.0         park\n",
       "31    NaN  31.0  forest path\n",
       "32    NaN  32.0        train\n",
       "38    NaN  38.0  forest path"
      ]
     },
     "execution_count": 196,
     "metadata": {},
     "output_type": "execute_result"
    }
   ],
   "source": [
    "test_data_separated_labels.head()"
   ]
  },
  {
   "cell_type": "code",
   "execution_count": 197,
   "metadata": {},
   "outputs": [
    {
     "data": {
      "text/plain": [
       "2      2\n",
       "13     4\n",
       "31     8\n",
       "32     5\n",
       "38     8\n",
       "39     4\n",
       "42     4\n",
       "44    11\n",
       "46     4\n",
       "48    13\n",
       "52     5\n",
       "56    12\n",
       "60     1\n",
       "63    13\n",
       "64     2\n",
       "68     1\n",
       "69    10\n",
       "72     0\n",
       "76    12\n",
       "79     6\n",
       "Name: scene_label, dtype: int64"
      ]
     },
     "execution_count": 197,
     "metadata": {},
     "output_type": "execute_result"
    }
   ],
   "source": [
    "# Applying label fix function to train and test set label dataframes and then just taking the relevant data from those\n",
    "train_data_separated_labels['scene_label'] = train_data_separated_labels['scene_label'].apply(label_fix)\n",
    "test_data_separated_labels['scene_label'] = test_data_separated_labels['scene_label'].apply(label_fix)\n",
    "train_data_separated_labels = train_data_separated_labels['scene_label']\n",
    "test_data_separated_labels = test_data_separated_labels['scene_label']\n",
    "train_data_separated_labels.head(20)\n",
    "test_data_separated_labels.head(20)"
   ]
  },
  {
   "cell_type": "markdown",
   "metadata": {},
   "source": [
    "TESTING WITH KERAS"
   ]
  },
  {
   "cell_type": "code",
   "execution_count": 198,
   "metadata": {
    "collapsed": true
   },
   "outputs": [],
   "source": [
    "import keras\n",
    "from keras.callbacks import *\n",
    "from keras.models import Sequential\n",
    "from keras import regularizers\n",
    "from keras.layers import Dense, Dropout, Activation\n",
    "from keras.layers.normalization import BatchNormalization\n"
   ]
  },
  {
   "cell_type": "code",
   "execution_count": 293,
   "metadata": {},
   "outputs": [
    {
     "name": "stderr",
     "output_type": "stream",
     "text": [
      "C:\\Users\\Admin\\Anaconda3\\envs\\tfdeeplearning\\lib\\site-packages\\ipykernel_launcher.py:6: UserWarning: Update your `Dense` call to the Keras 2 API: `Dense(200, kernel_initializer=\"uniform\", input_dim=200, activity_regularizer=<keras.reg...)`\n",
      "  \n",
      "C:\\Users\\Admin\\Anaconda3\\envs\\tfdeeplearning\\lib\\site-packages\\ipykernel_launcher.py:12: UserWarning: Update your `Dense` call to the Keras 2 API: `Dense(200, kernel_initializer=\"uniform\", activity_regularizer=<keras.reg...)`\n",
      "  if sys.path[0] == '':\n"
     ]
    }
   ],
   "source": [
    "#INPUT LAYER\n",
    "model = Sequential()\n",
    "\n",
    "# INPUT\n",
    "\n",
    "model.add(Dense(200, init='uniform',input_dim=200,activity_regularizer=regularizers.l1(0.00007)))\n",
    "model.add(Dropout(0.3))\n",
    "model.add(Activation('relu'))\n",
    "# HIDDEN 1\n",
    "\n",
    "\n",
    "model.add(Dense(200, init='uniform',activity_regularizer=regularizers.l1(0.00007)))\n",
    "model.add(Dropout(0.3))\n",
    "model.add(Activation('relu'))\n",
    "\n",
    "# model.add(Dropout(0.25))\n",
    "# model.add(Dense(200,init='uniform',activity_regularizer=regularizers.l1(0.00003)))\n",
    "# model.add(Activation('relu'))\n",
    "\n",
    "# OUTPUT\n",
    "model.add(Dense(15, activation='softmax'))"
   ]
  },
  {
   "cell_type": "code",
   "execution_count": 294,
   "metadata": {
    "collapsed": true
   },
   "outputs": [],
   "source": [
    "# CREATING A CALLBACK FUNCTION TO TEST MODEL PERFORMANCE\n",
    "class TestCallback(Callback):\n",
    "    def __init__(self, test_data):\n",
    "        self.test_data = test_data\n",
    "\n",
    "    def on_epoch_end(self, epoch, logs={}):\n",
    "        x, y = self.test_data\n",
    "        if epoch % 5 == 0:\n",
    "            loss, acc = self.model.evaluate(x, y, verbose=0)\n",
    "            print('\\nTesting loss: {}, acc: {}\\n'.format(loss, acc))"
   ]
  },
  {
   "cell_type": "markdown",
   "metadata": {},
   "source": [
    "Compile the Model"
   ]
  },
  {
   "cell_type": "code",
   "execution_count": 295,
   "metadata": {
    "collapsed": true
   },
   "outputs": [],
   "source": [
    "from tensorflow.contrib.keras import losses, optimizers, metrics"
   ]
  },
  {
   "cell_type": "code",
   "execution_count": 296,
   "metadata": {},
   "outputs": [
    {
     "data": {
      "text/plain": [
       "<function tensorflow.python.keras._impl.keras.losses.sparse_categorical_crossentropy>"
      ]
     },
     "execution_count": 296,
     "metadata": {},
     "output_type": "execute_result"
    }
   ],
   "source": [
    "losses.sparse_categorical_crossentropy"
   ]
  },
  {
   "cell_type": "code",
   "execution_count": 297,
   "metadata": {
    "collapsed": true
   },
   "outputs": [],
   "source": [
    "adam= keras.optimizers.Adam(lr=0.001, beta_1=0.9, beta_2=0.999, epsilon=None, decay=0.0, amsgrad=False)"
   ]
  },
  {
   "cell_type": "code",
   "execution_count": 298,
   "metadata": {
    "collapsed": true
   },
   "outputs": [],
   "source": [
    "model.compile(optimizer= adam,\n",
    "                      loss='sparse_categorical_crossentropy',\n",
    "                      metrics=['accuracy'])"
   ]
  },
  {
   "cell_type": "markdown",
   "metadata": {},
   "source": [
    "Train Model"
   ]
  },
  {
   "cell_type": "code",
   "execution_count": 304,
   "metadata": {},
   "outputs": [
    {
     "name": "stdout",
     "output_type": "stream",
     "text": [
      "Train on 3268 samples, validate on 1232 samples\n",
      "Epoch 1/30\n",
      "3268/3268 [==============================] - 0s 99us/step - loss: 0.7650 - acc: 0.8467 - val_loss: 1.3754 - val_acc: 0.6875\n",
      "Epoch 2/30\n",
      "3268/3268 [==============================] - 0s 96us/step - loss: 0.6852 - acc: 0.8623 - val_loss: 1.2378 - val_acc: 0.7086\n",
      "Epoch 3/30\n",
      "3268/3268 [==============================] - 0s 93us/step - loss: 0.6281 - acc: 0.8911 - val_loss: 1.2245 - val_acc: 0.7013\n",
      "Epoch 4/30\n",
      "3268/3268 [==============================] - 0s 92us/step - loss: 0.6501 - acc: 0.8788 - val_loss: 1.2702 - val_acc: 0.6924\n",
      "Epoch 5/30\n",
      "3268/3268 [==============================] - 0s 89us/step - loss: 0.7167 - acc: 0.8568 - val_loss: 1.2743 - val_acc: 0.6778\n",
      "Epoch 6/30\n",
      "3268/3268 [==============================] - 0s 87us/step - loss: 0.7520 - acc: 0.8482 - val_loss: 1.3333 - val_acc: 0.6802\n",
      "Epoch 7/30\n",
      "3268/3268 [==============================] - 0s 95us/step - loss: 0.6910 - acc: 0.8724 - val_loss: 1.2498 - val_acc: 0.7005\n",
      "Epoch 8/30\n",
      "3268/3268 [==============================] - 0s 101us/step - loss: 0.6425 - acc: 0.8856 - val_loss: 1.3375 - val_acc: 0.6794\n",
      "Epoch 9/30\n",
      "3268/3268 [==============================] - 0s 101us/step - loss: 0.7732 - acc: 0.8452 - val_loss: 1.2760 - val_acc: 0.6956\n",
      "Epoch 10/30\n",
      "3268/3268 [==============================] - 0s 100us/step - loss: 0.6944 - acc: 0.8672 - val_loss: 1.3130 - val_acc: 0.6583\n",
      "Epoch 11/30\n",
      "3268/3268 [==============================] - 0s 95us/step - loss: 0.6914 - acc: 0.8651 - val_loss: 1.2838 - val_acc: 0.6859\n",
      "Epoch 12/30\n",
      "3268/3268 [==============================] - 0s 93us/step - loss: 0.6318 - acc: 0.8874 - val_loss: 1.2790 - val_acc: 0.7005\n",
      "Epoch 13/30\n",
      "3268/3268 [==============================] - 0s 97us/step - loss: 0.5942 - acc: 0.9021 - val_loss: 1.2094 - val_acc: 0.7062\n",
      "Epoch 14/30\n",
      "3268/3268 [==============================] - 0s 101us/step - loss: 0.5990 - acc: 0.8975 - val_loss: 1.2527 - val_acc: 0.7175\n",
      "Epoch 15/30\n",
      "3268/3268 [==============================] - 0s 99us/step - loss: 0.7108 - acc: 0.8626 - val_loss: 1.3311 - val_acc: 0.6964\n",
      "Epoch 16/30\n",
      "3268/3268 [==============================] - 0s 97us/step - loss: 0.6181 - acc: 0.8905 - val_loss: 1.2039 - val_acc: 0.7200\n",
      "Epoch 17/30\n",
      "3268/3268 [==============================] - 0s 97us/step - loss: 0.6113 - acc: 0.8944 - val_loss: 1.2692 - val_acc: 0.7045\n",
      "Epoch 18/30\n",
      "3268/3268 [==============================] - 0s 98us/step - loss: 0.6069 - acc: 0.8978 - val_loss: 1.2067 - val_acc: 0.7110\n",
      "Epoch 19/30\n",
      "3268/3268 [==============================] - 0s 99us/step - loss: 0.5754 - acc: 0.9036 - val_loss: 1.2606 - val_acc: 0.7086\n",
      "Epoch 20/30\n",
      "3268/3268 [==============================] - 0s 97us/step - loss: 0.6271 - acc: 0.8819 - val_loss: 1.2261 - val_acc: 0.7183\n",
      "Epoch 21/30\n",
      "3268/3268 [==============================] - 0s 100us/step - loss: 0.5851 - acc: 0.9006 - val_loss: 1.2178 - val_acc: 0.7062\n",
      "Epoch 22/30\n",
      "3268/3268 [==============================] - 0s 100us/step - loss: 0.5552 - acc: 0.9106 - val_loss: 1.5103 - val_acc: 0.6656\n",
      "Epoch 23/30\n",
      "3268/3268 [==============================] - 0s 103us/step - loss: 0.6628 - acc: 0.8727 - val_loss: 1.2181 - val_acc: 0.7183\n",
      "Epoch 24/30\n",
      "3268/3268 [==============================] - 0s 93us/step - loss: 0.6373 - acc: 0.8822 - val_loss: 1.2351 - val_acc: 0.6989\n",
      "Epoch 25/30\n",
      "3268/3268 [==============================] - 0s 98us/step - loss: 0.6655 - acc: 0.8727 - val_loss: 1.1942 - val_acc: 0.7216\n",
      "Epoch 26/30\n",
      "3268/3268 [==============================] - 0s 94us/step - loss: 0.7094 - acc: 0.8641 - val_loss: 1.2582 - val_acc: 0.7021\n",
      "Epoch 27/30\n",
      "3268/3268 [==============================] - 0s 100us/step - loss: 0.5936 - acc: 0.9067 - val_loss: 1.2786 - val_acc: 0.7005\n",
      "Epoch 28/30\n",
      "3268/3268 [==============================] - 0s 98us/step - loss: 0.6134 - acc: 0.8889 - val_loss: 1.3072 - val_acc: 0.7021\n",
      "Epoch 29/30\n",
      "3268/3268 [==============================] - 0s 95us/step - loss: 0.6143 - acc: 0.8926 - val_loss: 1.3227 - val_acc: 0.6997\n",
      "Epoch 30/30\n",
      "3268/3268 [==============================] - 0s 97us/step - loss: 0.6691 - acc: 0.8724 - val_loss: 1.2081 - val_acc: 0.7240\n"
     ]
    }
   ],
   "source": [
    "history = model.fit(train_data_separated,train_data_separated_labels,batch_size = 64, epochs=30,validation_data=(test_data_separated,test_data_separated_labels))"
   ]
  },
  {
   "cell_type": "code",
   "execution_count": 305,
   "metadata": {
    "collapsed": true
   },
   "outputs": [],
   "source": [
    "predictions = model.predict_classes(test_data_separated)\n",
    "predictions_to_commit = model.predict_classes(test_data)"
   ]
  },
  {
   "cell_type": "code",
   "execution_count": 306,
   "metadata": {
    "collapsed": true
   },
   "outputs": [],
   "source": [
    "from sklearn.metrics import confusion_matrix,classification_report"
   ]
  },
  {
   "cell_type": "code",
   "execution_count": 307,
   "metadata": {},
   "outputs": [
    {
     "name": "stdout",
     "output_type": "stream",
     "text": [
      "             precision    recall  f1-score   support\n",
      "\n",
      "          0       0.53      0.64      0.58        59\n",
      "          1       0.78      0.75      0.76        87\n",
      "          2       0.65      0.89      0.75        54\n",
      "          3       0.59      0.82      0.68        62\n",
      "          4       0.52      0.58      0.55        74\n",
      "          5       0.68      0.77      0.72        78\n",
      "          6       0.85      0.68      0.75       102\n",
      "          7       0.88      0.77      0.82        95\n",
      "          8       0.87      0.74      0.80       102\n",
      "          9       0.79      0.85      0.82        79\n",
      "         10       0.87      0.58      0.69       128\n",
      "         11       0.53      0.66      0.59        67\n",
      "         12       0.90      0.77      0.83        98\n",
      "         13       0.47      0.69      0.56        55\n",
      "         14       0.91      0.78      0.84        92\n",
      "\n",
      "avg / total       0.75      0.72      0.73      1232\n",
      "\n",
      "dict_keys(['val_loss', 'loss', 'acc', 'val_acc'])\n"
     ]
    },
    {
     "data": {
      "image/png": "[encoded data removed]",
      "text/plain": [
       "<matplotlib.figure.Figure at 0x2692c65cd30>"
      ]
     },
     "metadata": {},
     "output_type": "display_data"
    },
    {
     "data": {
      "image/png": "[encoded data removed]",
      "text/plain": [
       "<matplotlib.figure.Figure at 0x2692c5aeb38>"
      ]
     },
     "metadata": {},
     "output_type": "display_data"
    }
   ],
   "source": [
    "print(classification_report(predictions,test_data_separated_labels))\n",
    "\n",
    "# list all data in history\n",
    "print(history.history.keys())\n",
    "# summarize history for accuracy\n",
    "plt.plot(history.history['acc'])\n",
    "plt.plot(history.history['val_acc'])\n",
    "plt.title('model accuracy')\n",
    "plt.ylabel('accuracy')\n",
    "plt.xlabel('epoch')\n",
    "plt.legend(['train', 'test'], loc='upper left')\n",
    "plt.show()\n",
    "# summarize history for loss\n",
    "plt.plot(history.history['loss'])\n",
    "plt.plot(history.history['val_loss'])\n",
    "plt.title('model loss')\n",
    "plt.ylabel('loss')\n",
    "plt.xlabel('epoch')\n",
    "plt.legend(['train', 'test'], loc='upper left')\n",
    "plt.show()"
   ]
  },
  {
   "cell_type": "code",
   "execution_count": 308,
   "metadata": {
    "collapsed": true
   },
   "outputs": [],
   "source": [
    "predictions_to_commit = pd.DataFrame(predictions_to_commit, columns = [\"Scene_label\"])\n",
    "predictions_to_commit.index.name = 'Id'"
   ]
  },
  {
   "cell_type": "code",
   "execution_count": 309,
   "metadata": {},
   "outputs": [
    {
     "data": {
      "text/html": [
       "<div>\n",
       "<style>\n",
       "    .dataframe thead tr:only-child th {\n",
       "        text-align: right;\n",
       "    }\n",
       "\n",
       "    .dataframe thead th {\n",
       "        text-align: left;\n",
       "    }\n",
       "\n",
       "    .dataframe tbody tr th {\n",
       "        vertical-align: top;\n",
       "    }\n",
       "</style>\n",
       "<table border=\"1\" class=\"dataframe\">\n",
       "  <thead>\n",
       "    <tr style=\"text-align: right;\">\n",
       "      <th></th>\n",
       "      <th>Scene_label</th>\n",
       "    </tr>\n",
       "    <tr>\n",
       "      <th>Id</th>\n",
       "      <th></th>\n",
       "    </tr>\n",
       "  </thead>\n",
       "  <tbody>\n",
       "    <tr>\n",
       "      <th>0</th>\n",
       "      <td>4</td>\n",
       "    </tr>\n",
       "    <tr>\n",
       "      <th>1</th>\n",
       "      <td>8</td>\n",
       "    </tr>\n",
       "    <tr>\n",
       "      <th>2</th>\n",
       "      <td>2</td>\n",
       "    </tr>\n",
       "    <tr>\n",
       "      <th>3</th>\n",
       "      <td>5</td>\n",
       "    </tr>\n",
       "    <tr>\n",
       "      <th>4</th>\n",
       "      <td>4</td>\n",
       "    </tr>\n",
       "    <tr>\n",
       "      <th>5</th>\n",
       "      <td>13</td>\n",
       "    </tr>\n",
       "    <tr>\n",
       "      <th>6</th>\n",
       "      <td>8</td>\n",
       "    </tr>\n",
       "    <tr>\n",
       "      <th>7</th>\n",
       "      <td>10</td>\n",
       "    </tr>\n",
       "    <tr>\n",
       "      <th>8</th>\n",
       "      <td>0</td>\n",
       "    </tr>\n",
       "    <tr>\n",
       "      <th>9</th>\n",
       "      <td>9</td>\n",
       "    </tr>\n",
       "    <tr>\n",
       "      <th>10</th>\n",
       "      <td>13</td>\n",
       "    </tr>\n",
       "    <tr>\n",
       "      <th>11</th>\n",
       "      <td>8</td>\n",
       "    </tr>\n",
       "    <tr>\n",
       "      <th>12</th>\n",
       "      <td>2</td>\n",
       "    </tr>\n",
       "    <tr>\n",
       "      <th>13</th>\n",
       "      <td>1</td>\n",
       "    </tr>\n",
       "    <tr>\n",
       "      <th>14</th>\n",
       "      <td>12</td>\n",
       "    </tr>\n",
       "    <tr>\n",
       "      <th>15</th>\n",
       "      <td>3</td>\n",
       "    </tr>\n",
       "    <tr>\n",
       "      <th>16</th>\n",
       "      <td>1</td>\n",
       "    </tr>\n",
       "    <tr>\n",
       "      <th>17</th>\n",
       "      <td>11</td>\n",
       "    </tr>\n",
       "    <tr>\n",
       "      <th>18</th>\n",
       "      <td>8</td>\n",
       "    </tr>\n",
       "    <tr>\n",
       "      <th>19</th>\n",
       "      <td>3</td>\n",
       "    </tr>\n",
       "  </tbody>\n",
       "</table>\n",
       "</div>"
      ],
      "text/plain": [
       "    Scene_label\n",
       "Id             \n",
       "0             4\n",
       "1             8\n",
       "2             2\n",
       "3             5\n",
       "4             4\n",
       "5            13\n",
       "6             8\n",
       "7            10\n",
       "8             0\n",
       "9             9\n",
       "10           13\n",
       "11            8\n",
       "12            2\n",
       "13            1\n",
       "14           12\n",
       "15            3\n",
       "16            1\n",
       "17           11\n",
       "18            8\n",
       "19            3"
      ]
     },
     "execution_count": 309,
     "metadata": {},
     "output_type": "execute_result"
    }
   ],
   "source": [
    "predictions_to_commit.head(20)"
   ]
  },
  {
   "cell_type": "code",
   "execution_count": 310,
   "metadata": {
    "collapsed": true
   },
   "outputs": [],
   "source": [
    "# Making a label fix function \n",
    "def label_fix_numbers_to_scenes(label):\n",
    "    if label ==0:\n",
    "        return 'cafe/restaurant'\n",
    "    elif label ==1:\n",
    "        return 'home'\n",
    "    elif label ==2:\n",
    "        return 'office'\n",
    "    elif label ==3:\n",
    "        return 'grocery store'\n",
    "    elif label ==4:\n",
    "        return 'park'\n",
    "    elif label ==5:\n",
    "        return 'train'\n",
    "    elif label ==6:\n",
    "        return 'library'\n",
    "    elif label ==7:\n",
    "        return 'beach'\n",
    "    elif label ==8:\n",
    "        return 'forest path'\n",
    "    elif label ==9:\n",
    "        return 'car'\n",
    "    elif label ==10:\n",
    "        return 'tram'\n",
    "    elif label ==11:\n",
    "        return 'residential area'\n",
    "    elif label ==12:\n",
    "        return 'metro station'\n",
    "    elif label ==13:\n",
    "        return 'bus'\n",
    "    elif label ==14:\n",
    "        return 'city center'"
   ]
  },
  {
   "cell_type": "code",
   "execution_count": 311,
   "metadata": {},
   "outputs": [
    {
     "data": {
      "text/html": [
       "<div>\n",
       "<style>\n",
       "    .dataframe thead tr:only-child th {\n",
       "        text-align: right;\n",
       "    }\n",
       "\n",
       "    .dataframe thead th {\n",
       "        text-align: left;\n",
       "    }\n",
       "\n",
       "    .dataframe tbody tr th {\n",
       "        vertical-align: top;\n",
       "    }\n",
       "</style>\n",
       "<table border=\"1\" class=\"dataframe\">\n",
       "  <thead>\n",
       "    <tr style=\"text-align: right;\">\n",
       "      <th></th>\n",
       "      <th>Scene_label</th>\n",
       "    </tr>\n",
       "    <tr>\n",
       "      <th>Id</th>\n",
       "      <th></th>\n",
       "    </tr>\n",
       "  </thead>\n",
       "  <tbody>\n",
       "    <tr>\n",
       "      <th>0</th>\n",
       "      <td>park</td>\n",
       "    </tr>\n",
       "    <tr>\n",
       "      <th>1</th>\n",
       "      <td>forest path</td>\n",
       "    </tr>\n",
       "    <tr>\n",
       "      <th>2</th>\n",
       "      <td>office</td>\n",
       "    </tr>\n",
       "    <tr>\n",
       "      <th>3</th>\n",
       "      <td>train</td>\n",
       "    </tr>\n",
       "    <tr>\n",
       "      <th>4</th>\n",
       "      <td>park</td>\n",
       "    </tr>\n",
       "  </tbody>\n",
       "</table>\n",
       "</div>"
      ],
      "text/plain": [
       "    Scene_label\n",
       "Id             \n",
       "0          park\n",
       "1   forest path\n",
       "2        office\n",
       "3         train\n",
       "4          park"
      ]
     },
     "execution_count": 311,
     "metadata": {},
     "output_type": "execute_result"
    }
   ],
   "source": [
    "predictions_to_commit[\"Scene_label\"] = predictions_to_commit[\"Scene_label\"].apply(label_fix_numbers_to_scenes)\n",
    "predictions_to_commit.head(5)\n",
    "\n"
   ]
  },
  {
   "cell_type": "code",
   "execution_count": 312,
   "metadata": {
    "collapsed": true
   },
   "outputs": [],
   "source": [
    "final_for_commit = predictions_to_commit.to_csv('final_data.csv')\n"
   ]
  },
  {
   "cell_type": "code",
   "execution_count": null,
   "metadata": {
    "collapsed": true
   },
   "outputs": [],
   "source": []
  },
  {
   "cell_type": "code",
   "execution_count": null,
   "metadata": {
    "collapsed": true
   },
   "outputs": [],
   "source": []
  },
  {
   "cell_type": "code",
   "execution_count": null,
   "metadata": {
    "collapsed": true
   },
   "outputs": [],
   "source": []
  }
 ],
 "metadata": {
  "kernelspec": {
   "display_name": "Python 3",
   "language": "python",
   "name": "python3"
  },
  "language_info": {
   "codemirror_mode": {
    "name": "ipython",
    "version": 3
   },
   "file_extension": ".py",
   "mimetype": "text/x-python",
   "name": "python",
   "nbconvert_exporter": "python",
   "pygments_lexer": "ipython3",
   "version": "3.5.4"
  }
 },
 "nbformat": 4,
 "nbformat_minor": 2
}
